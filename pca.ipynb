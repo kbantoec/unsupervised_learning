{
 "cells": [
  {
   "cell_type": "markdown",
   "metadata": {},
   "source": [
    "# Decorrelating the data and dimension reduction\n",
    "\n",
    "Dimension reduction summarizes a dataset using its common occuring patterns. In this notebook, we'll learn about the most fundamental of dimension reduction techniques, \"Principal Component Analysis\" (\"PCA\"). PCA is often used before supervised learning to improve model performance and generalization. It can also be useful for unsupervised learning. For example, we'll employ a variant of PCA that will allow us to cluster Wikipedia articles by their content!"
   ]
  },
  {
   "cell_type": "code",
   "execution_count": 48,
   "metadata": {},
   "outputs": [],
   "source": [
    "from sklearn.decomposition import PCA\n",
    "\n",
    "from scipy.stats import pearsonr\n",
    "\n",
    "import config\n",
    "import utils\n",
    "import numpy as np\n",
    "from numpy.core import ndarray\n",
    "import pandas as pd\n",
    "from pandas.core.frame import Series, DataFrame\n",
    "import matplotlib.pyplot as plt\n",
    "import os\n",
    "from typing import Tuple, Dict, List, Any, Union\n",
    "from collections import namedtuple"
   ]
  },
  {
   "cell_type": "code",
   "execution_count": 2,
   "metadata": {},
   "outputs": [],
   "source": [
    "basedir: str = os.getcwd()"
   ]
  },
  {
   "cell_type": "code",
   "execution_count": 3,
   "metadata": {},
   "outputs": [
    {
     "data": {
      "text/plain": [
       "dict_keys(['seeds', 'seeds-width-vs-length', 'artists', 'scrobbler-small-sample', 'wikipedia-vectors', 'wikipedia-vocabulary', 'stocks', 'eurovision', 'wine'])"
      ]
     },
     "execution_count": 3,
     "metadata": {},
     "output_type": "execute_result"
    }
   ],
   "source": [
    "datapaths: Dict[str, str] = {k: utils.normabspath(basedir, v) for k, v in config.paths.items()}\n",
    "datapaths.keys()"
   ]
  },
  {
   "cell_type": "code",
   "execution_count": 4,
   "metadata": {},
   "outputs": [
    {
     "data": {
      "text/html": [
       "<div>\n",
       "<style scoped>\n",
       "    .dataframe tbody tr th:only-of-type {\n",
       "        vertical-align: middle;\n",
       "    }\n",
       "\n",
       "    .dataframe tbody tr th {\n",
       "        vertical-align: top;\n",
       "    }\n",
       "\n",
       "    .dataframe thead th {\n",
       "        text-align: right;\n",
       "    }\n",
       "</style>\n",
       "<table border=\"1\" class=\"dataframe\">\n",
       "  <thead>\n",
       "    <tr style=\"text-align: right;\">\n",
       "      <th></th>\n",
       "      <th>class_label</th>\n",
       "      <th>class_name</th>\n",
       "      <th>alcohol</th>\n",
       "      <th>malic_acid</th>\n",
       "      <th>ash</th>\n",
       "      <th>alcalinity_of_ash</th>\n",
       "      <th>magnesium</th>\n",
       "      <th>total_phenols</th>\n",
       "      <th>flavanoids</th>\n",
       "      <th>nonflavanoid_phenols</th>\n",
       "      <th>proanthocyanins</th>\n",
       "      <th>color_intensity</th>\n",
       "      <th>hue</th>\n",
       "      <th>od280</th>\n",
       "      <th>proline</th>\n",
       "    </tr>\n",
       "  </thead>\n",
       "  <tbody>\n",
       "    <tr>\n",
       "      <th>0</th>\n",
       "      <td>1</td>\n",
       "      <td>Barolo</td>\n",
       "      <td>14.23</td>\n",
       "      <td>1.71</td>\n",
       "      <td>2.43</td>\n",
       "      <td>15.6</td>\n",
       "      <td>127</td>\n",
       "      <td>2.80</td>\n",
       "      <td>3.06</td>\n",
       "      <td>0.28</td>\n",
       "      <td>2.29</td>\n",
       "      <td>5.64</td>\n",
       "      <td>1.04</td>\n",
       "      <td>3.92</td>\n",
       "      <td>1065</td>\n",
       "    </tr>\n",
       "    <tr>\n",
       "      <th>1</th>\n",
       "      <td>1</td>\n",
       "      <td>Barolo</td>\n",
       "      <td>13.20</td>\n",
       "      <td>1.78</td>\n",
       "      <td>2.14</td>\n",
       "      <td>11.2</td>\n",
       "      <td>100</td>\n",
       "      <td>2.65</td>\n",
       "      <td>2.76</td>\n",
       "      <td>0.26</td>\n",
       "      <td>1.28</td>\n",
       "      <td>4.38</td>\n",
       "      <td>1.05</td>\n",
       "      <td>3.40</td>\n",
       "      <td>1050</td>\n",
       "    </tr>\n",
       "    <tr>\n",
       "      <th>2</th>\n",
       "      <td>1</td>\n",
       "      <td>Barolo</td>\n",
       "      <td>13.16</td>\n",
       "      <td>2.36</td>\n",
       "      <td>2.67</td>\n",
       "      <td>18.6</td>\n",
       "      <td>101</td>\n",
       "      <td>2.80</td>\n",
       "      <td>3.24</td>\n",
       "      <td>0.30</td>\n",
       "      <td>2.81</td>\n",
       "      <td>5.68</td>\n",
       "      <td>1.03</td>\n",
       "      <td>3.17</td>\n",
       "      <td>1185</td>\n",
       "    </tr>\n",
       "    <tr>\n",
       "      <th>3</th>\n",
       "      <td>1</td>\n",
       "      <td>Barolo</td>\n",
       "      <td>14.37</td>\n",
       "      <td>1.95</td>\n",
       "      <td>2.50</td>\n",
       "      <td>16.8</td>\n",
       "      <td>113</td>\n",
       "      <td>3.85</td>\n",
       "      <td>3.49</td>\n",
       "      <td>0.24</td>\n",
       "      <td>2.18</td>\n",
       "      <td>7.80</td>\n",
       "      <td>0.86</td>\n",
       "      <td>3.45</td>\n",
       "      <td>1480</td>\n",
       "    </tr>\n",
       "    <tr>\n",
       "      <th>4</th>\n",
       "      <td>1</td>\n",
       "      <td>Barolo</td>\n",
       "      <td>13.24</td>\n",
       "      <td>2.59</td>\n",
       "      <td>2.87</td>\n",
       "      <td>21.0</td>\n",
       "      <td>118</td>\n",
       "      <td>2.80</td>\n",
       "      <td>2.69</td>\n",
       "      <td>0.39</td>\n",
       "      <td>1.82</td>\n",
       "      <td>4.32</td>\n",
       "      <td>1.04</td>\n",
       "      <td>2.93</td>\n",
       "      <td>735</td>\n",
       "    </tr>\n",
       "    <tr>\n",
       "      <th>...</th>\n",
       "      <td>...</td>\n",
       "      <td>...</td>\n",
       "      <td>...</td>\n",
       "      <td>...</td>\n",
       "      <td>...</td>\n",
       "      <td>...</td>\n",
       "      <td>...</td>\n",
       "      <td>...</td>\n",
       "      <td>...</td>\n",
       "      <td>...</td>\n",
       "      <td>...</td>\n",
       "      <td>...</td>\n",
       "      <td>...</td>\n",
       "      <td>...</td>\n",
       "      <td>...</td>\n",
       "    </tr>\n",
       "    <tr>\n",
       "      <th>173</th>\n",
       "      <td>3</td>\n",
       "      <td>Barbera</td>\n",
       "      <td>13.71</td>\n",
       "      <td>5.65</td>\n",
       "      <td>2.45</td>\n",
       "      <td>20.5</td>\n",
       "      <td>95</td>\n",
       "      <td>1.68</td>\n",
       "      <td>0.61</td>\n",
       "      <td>0.52</td>\n",
       "      <td>1.06</td>\n",
       "      <td>7.70</td>\n",
       "      <td>0.64</td>\n",
       "      <td>1.74</td>\n",
       "      <td>740</td>\n",
       "    </tr>\n",
       "    <tr>\n",
       "      <th>174</th>\n",
       "      <td>3</td>\n",
       "      <td>Barbera</td>\n",
       "      <td>13.40</td>\n",
       "      <td>3.91</td>\n",
       "      <td>2.48</td>\n",
       "      <td>23.0</td>\n",
       "      <td>102</td>\n",
       "      <td>1.80</td>\n",
       "      <td>0.75</td>\n",
       "      <td>0.43</td>\n",
       "      <td>1.41</td>\n",
       "      <td>7.30</td>\n",
       "      <td>0.70</td>\n",
       "      <td>1.56</td>\n",
       "      <td>750</td>\n",
       "    </tr>\n",
       "    <tr>\n",
       "      <th>175</th>\n",
       "      <td>3</td>\n",
       "      <td>Barbera</td>\n",
       "      <td>13.27</td>\n",
       "      <td>4.28</td>\n",
       "      <td>2.26</td>\n",
       "      <td>20.0</td>\n",
       "      <td>120</td>\n",
       "      <td>1.59</td>\n",
       "      <td>0.69</td>\n",
       "      <td>0.43</td>\n",
       "      <td>1.35</td>\n",
       "      <td>10.20</td>\n",
       "      <td>0.59</td>\n",
       "      <td>1.56</td>\n",
       "      <td>835</td>\n",
       "    </tr>\n",
       "    <tr>\n",
       "      <th>176</th>\n",
       "      <td>3</td>\n",
       "      <td>Barbera</td>\n",
       "      <td>13.17</td>\n",
       "      <td>2.59</td>\n",
       "      <td>2.37</td>\n",
       "      <td>20.0</td>\n",
       "      <td>120</td>\n",
       "      <td>1.65</td>\n",
       "      <td>0.68</td>\n",
       "      <td>0.53</td>\n",
       "      <td>1.46</td>\n",
       "      <td>9.30</td>\n",
       "      <td>0.60</td>\n",
       "      <td>1.62</td>\n",
       "      <td>840</td>\n",
       "    </tr>\n",
       "    <tr>\n",
       "      <th>177</th>\n",
       "      <td>3</td>\n",
       "      <td>Barbera</td>\n",
       "      <td>14.13</td>\n",
       "      <td>4.10</td>\n",
       "      <td>2.74</td>\n",
       "      <td>24.5</td>\n",
       "      <td>96</td>\n",
       "      <td>2.05</td>\n",
       "      <td>0.76</td>\n",
       "      <td>0.56</td>\n",
       "      <td>1.35</td>\n",
       "      <td>9.20</td>\n",
       "      <td>0.61</td>\n",
       "      <td>1.60</td>\n",
       "      <td>560</td>\n",
       "    </tr>\n",
       "  </tbody>\n",
       "</table>\n",
       "<p>178 rows × 15 columns</p>\n",
       "</div>"
      ],
      "text/plain": [
       "     class_label class_name  alcohol  malic_acid   ash  alcalinity_of_ash  \\\n",
       "0              1     Barolo    14.23        1.71  2.43               15.6   \n",
       "1              1     Barolo    13.20        1.78  2.14               11.2   \n",
       "2              1     Barolo    13.16        2.36  2.67               18.6   \n",
       "3              1     Barolo    14.37        1.95  2.50               16.8   \n",
       "4              1     Barolo    13.24        2.59  2.87               21.0   \n",
       "..           ...        ...      ...         ...   ...                ...   \n",
       "173            3    Barbera    13.71        5.65  2.45               20.5   \n",
       "174            3    Barbera    13.40        3.91  2.48               23.0   \n",
       "175            3    Barbera    13.27        4.28  2.26               20.0   \n",
       "176            3    Barbera    13.17        2.59  2.37               20.0   \n",
       "177            3    Barbera    14.13        4.10  2.74               24.5   \n",
       "\n",
       "     magnesium  total_phenols  flavanoids  nonflavanoid_phenols  \\\n",
       "0          127           2.80        3.06                  0.28   \n",
       "1          100           2.65        2.76                  0.26   \n",
       "2          101           2.80        3.24                  0.30   \n",
       "3          113           3.85        3.49                  0.24   \n",
       "4          118           2.80        2.69                  0.39   \n",
       "..         ...            ...         ...                   ...   \n",
       "173         95           1.68        0.61                  0.52   \n",
       "174        102           1.80        0.75                  0.43   \n",
       "175        120           1.59        0.69                  0.43   \n",
       "176        120           1.65        0.68                  0.53   \n",
       "177         96           2.05        0.76                  0.56   \n",
       "\n",
       "     proanthocyanins  color_intensity   hue  od280  proline  \n",
       "0               2.29             5.64  1.04   3.92     1065  \n",
       "1               1.28             4.38  1.05   3.40     1050  \n",
       "2               2.81             5.68  1.03   3.17     1185  \n",
       "3               2.18             7.80  0.86   3.45     1480  \n",
       "4               1.82             4.32  1.04   2.93      735  \n",
       "..               ...              ...   ...    ...      ...  \n",
       "173             1.06             7.70  0.64   1.74      740  \n",
       "174             1.41             7.30  0.70   1.56      750  \n",
       "175             1.35            10.20  0.59   1.56      835  \n",
       "176             1.46             9.30  0.60   1.62      840  \n",
       "177             1.35             9.20  0.61   1.60      560  \n",
       "\n",
       "[178 rows x 15 columns]"
      ]
     },
     "execution_count": 4,
     "metadata": {},
     "output_type": "execute_result"
    }
   ],
   "source": [
    "wine = pd.read_csv(datapaths['wine'])\n",
    "wine"
   ]
  },
  {
   "cell_type": "code",
   "execution_count": 103,
   "metadata": {},
   "outputs": [],
   "source": [
    "def scatter_axis(xs: Series, \n",
    "                 ys: Series,\n",
    "                 class_labels: Series = None,\n",
    "                 xlim: tuple = None, \n",
    "                 ylim: tuple = None, \n",
    "                 align_axis_zero: bool = False, \n",
    "                 save: str = None, \n",
    "                 name: str = None,\n",
    "                 title: str = None,\n",
    "                 xy: Tuple[float, float] = None,\n",
    "                 annotate_corr: bool = True,\n",
    "                 pca_components: ndarray = None):\n",
    "    \n",
    "    fig = plt.figure(figsize=(6, 5))\n",
    "    ax = fig.add_subplot(1, 1, 1)\n",
    "\n",
    "    # Move left y-axis and bottim x-axis to centre, passing through (0,0)\n",
    "    ax.spines['left'].set_position('zero')\n",
    "    ax.spines['bottom'].set_position('zero')\n",
    "        \n",
    "    # Eliminate upper and right axes\n",
    "    ax.spines['right'].set_color('none')\n",
    "    ax.spines['top'].set_color('none')\n",
    "\n",
    "    # Show ticks in the left and lower axes only\n",
    "    ax.xaxis.set_ticks_position('bottom')\n",
    "    ax.yaxis.set_ticks_position('left')\n",
    "    \n",
    "    if xlim is not None:\n",
    "        plt.xlim(xlim)\n",
    "    if ylim is not None:\n",
    "        plt.ylim(ylim)\n",
    "    \n",
    "    if class_labels is not None:\n",
    "        plt.scatter(xs, ys, edgecolor='k', c=class_labels)\n",
    "    else:\n",
    "        plt.scatter(xs, ys, edgecolor='k')\n",
    "    plt.xlabel(xs.name, rotation=0)\n",
    "    plt.ylabel(ys.name, rotation=0)\n",
    "    \n",
    "    if annotate_corr:\n",
    "        if xy is None:\n",
    "            xy = (xlim[1] - 1, ylim[1] - 1)\n",
    "        \n",
    "        r, _ = pearsonr(xs, ys)\n",
    "        plt.annotate(f'Pearson r = {np.round(r * 100)}%', xy=xy)\n",
    "    \n",
    "    if title is not None:\n",
    "        fig.suptitle(title, fontsize=15, fontweight='bold')\n",
    "    \n",
    "    if align_axis_zero:\n",
    "        xcoord: float = 0.5\n",
    "        ycoord: float = 0.5\n",
    "        \n",
    "        x_range = xlim[1] - xlim[0]\n",
    "        y_range = ylim[1] - ylim[0]\n",
    "        \n",
    "        if xlim[0] <= 0 and xlim[1] >= 0:\n",
    "            xcoord = (0 - xlim[0]) / x_range\n",
    "        \n",
    "        if ylim[0] <= 0 and ylim[1] >= 0:\n",
    "            ycoord = (0 - ylim[0]) / y_range\n",
    "    \n",
    "        ax.xaxis.set_label_coords(1.07, xcoord)\n",
    "        ax.yaxis.set_label_coords(ycoord, 1.04)\n",
    "    \n",
    "    if pca_components is not None:\n",
    "        plt.quiver(np.zeros(pca_components.shape[1]),\n",
    "                   np.zeros(pca_components.shape[1]),\n",
    "                   pca_components[0, :],\n",
    "                   pca_components[1, :],\n",
    "                   angles='xy', \n",
    "                   scale_units='xy', \n",
    "                   scale=1,\n",
    "                   color='red')\n",
    "        \n",
    "    if save:\n",
    "        fig.savefig(f'out/plots/{name}.png', dpi=600, transparent=True)\n",
    "    plt.show()"
   ]
  },
  {
   "cell_type": "code",
   "execution_count": 97,
   "metadata": {},
   "outputs": [],
   "source": [
    "model = PCA()\n",
    "pca_features: ndarray = model.fit_transform(wine[['od280', 'total_phenols']])\n",
    "\n",
    "xs: ndarray = pca_features[:, 0]\n",
    "ys: ndarray = pca_features[:, 1]"
   ]
  },
  {
   "cell_type": "code",
   "execution_count": 108,
   "metadata": {},
   "outputs": [
    {
     "data": {
      "image/png": "[encoded data removed]",
      "text/plain": [
       "<Figure size 432x360 with 1 Axes>"
      ]
     },
     "metadata": {
      "needs_background": "light"
     },
     "output_type": "display_data"
    }
   ],
   "source": [
    "scatter_axis(pd.Series(xs, name='od280'), \n",
    "             pd.Series(ys, name='total_phenols'), \n",
    "             class_labels=wine['class_label'],\n",
    "             xlim=(-4, 6), \n",
    "             ylim=(-4, 6), \n",
    "             align_axis_zero=True, \n",
    "             save=False, \n",
    "             name='total_phenols_vs_od280_pca',\n",
    "             title='With PCA features (B)',\n",
    "             xy=(2, 5),\n",
    "             pca_components=model.components_)"
   ]
  },
  {
   "cell_type": "code",
   "execution_count": 55,
   "metadata": {},
   "outputs": [
    {
     "data": {
      "text/plain": [
       "-1.6653345369377348e-16"
      ]
     },
     "execution_count": 55,
     "metadata": {},
     "output_type": "execute_result"
    }
   ],
   "source": [
    "correlation, pvalue = pearsonr(xs, ys)\n",
    "correlation"
   ]
  },
  {
   "cell_type": "code",
   "execution_count": 84,
   "metadata": {},
   "outputs": [],
   "source": [
    "PCs = model.components_"
   ]
  },
  {
   "cell_type": "code",
   "execution_count": 85,
   "metadata": {},
   "outputs": [
    {
     "data": {
      "image/png": "[encoded data removed]",
      "text/plain": [
       "<Figure size 360x360 with 1 Axes>"
      ]
     },
     "metadata": {
      "needs_background": "light"
     },
     "output_type": "display_data"
    }
   ],
   "source": [
    "fig = plt.figure(figsize=(5,5))\n",
    "plt.quiver(np.zeros(PCs.shape[1]), np.zeros(PCs.shape[1]),\n",
    "           PCs[0,:], PCs[1,:], \n",
    "           angles='xy', scale_units='xy', scale=1)\n",
    "plt.show()"
   ]
  },
  {
   "cell_type": "code",
   "execution_count": 107,
   "metadata": {},
   "outputs": [
    {
     "data": {
      "image/png": "[encoded data removed]",
      "text/plain": [
       "<Figure size 432x360 with 1 Axes>"
      ]
     },
     "metadata": {
      "needs_background": "light"
     },
     "output_type": "display_data"
    }
   ],
   "source": [
    "scatter_axis(wine['od280'], \n",
    "             wine['total_phenols'], \n",
    "             class_labels=wine['class_label'],\n",
    "             xlim=(-4, 6), \n",
    "             ylim=(-4, 6), \n",
    "             align_axis_zero=True, \n",
    "             save=False, \n",
    "             name='total_phenols_vs_od280',\n",
    "             title='Without PCA features (A)',\n",
    "             xy=(2, 5))"
   ]
  },
  {
   "cell_type": "code",
   "execution_count": 96,
   "metadata": {},
   "outputs": [
    {
     "data": {
      "text/plain": [
       "0.6999493647911862"
      ]
     },
     "execution_count": 96,
     "metadata": {},
     "output_type": "execute_result"
    }
   ],
   "source": [
    "correlation, pvalue = pearsonr(wine['od280'], wine['total_phenols'])\n",
    "correlation"
   ]
  },
  {
   "cell_type": "code",
   "execution_count": null,
   "metadata": {},
   "outputs": [],
   "source": []
  }
 ],
 "metadata": {
  "kernelspec": {
   "display_name": "Python 3",
   "language": "python",
   "name": "python3"
  },
  "language_info": {
   "codemirror_mode": {
    "name": "ipython",
    "version": 3
   },
   "file_extension": ".py",
   "mimetype": "text/x-python",
   "name": "python",
   "nbconvert_exporter": "python",
   "pygments_lexer": "ipython3",
   "version": "3.7.3"
  }
 },
 "nbformat": 4,
 "nbformat_minor": 4
}
